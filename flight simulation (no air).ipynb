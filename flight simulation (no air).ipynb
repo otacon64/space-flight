{
 "cells": [
  {
   "cell_type": "code",
   "execution_count": 6,
   "metadata": {},
   "outputs": [],
   "source": [
    "import matplotlib as mpl\n",
    "import matplotlib.pyplot as plt\n",
    "import numpy as np\n",
    "import pint\n",
    "\n",
    "%matplotlib inline\n",
    "\n",
    "ureg = pint.UnitRegistry()"
   ]
  },
  {
   "cell_type": "markdown",
   "metadata": {},
   "source": [
    "# Simulation of Rocket flight (multistage) with no air resistance"
   ]
  },
  {
   "cell_type": "markdown",
   "metadata": {},
   "source": [
    "## Planet parameters\n",
    "In this section we will define basic paremeters of the planet we are trying to orbit"
   ]
  },
  {
   "cell_type": "code",
   "execution_count": 21,
   "metadata": {},
   "outputs": [],
   "source": [
    "G = 6.67430e-11 * ureg('m**3 * kg**-1 * s**-2')\n",
    "R = 6400 * ureg('km')\n",
    "M = 5.972e24 * ureg('kg')"
   ]
  },
  {
   "cell_type": "markdown",
   "metadata": {},
   "source": [
    "## Launch site parameters\n",
    "Parameteres of the launch site. We will be launching from equator."
   ]
  },
  {
   "cell_type": "code",
   "execution_count": 14,
   "metadata": {},
   "outputs": [],
   "source": [
    "initial_altitude = 0 * ureg('m')"
   ]
  },
  {
   "cell_type": "markdown",
   "metadata": {},
   "source": [
    "## Rocket parameters"
   ]
  },
  {
   "cell_type": "markdown",
   "metadata": {},
   "source": [
    "In this section, we will define basic parameters of the rocket, such as:\n",
    "<ul>\n",
    "    <li>Specific impulse of engines</li>\n",
    "    <li>Thrust of engines</li>\n",
    "    <li>Amount of stage</li>\n",
    "    <li>Amount of propellant (fuel + oxidizer) per stage</li>\n",
    "</ul>"
   ]
  },
  {
   "cell_type": "markdown",
   "metadata": {},
   "source": [
    "In this example, we will simulate 2 stage rocket.\n",
    "<ul>\n",
    "    <li>First stage is going to have sea level optimized (small nozzle) engines.</li>\n",
    "    <li>Second stage is going to have vacuum optimized engines (huge nozzle).</li>\n",
    "</ul>"
   ]
  },
  {
   "cell_type": "code",
   "execution_count": 13,
   "metadata": {},
   "outputs": [],
   "source": [
    "Isp_sea = 310.0 * ureg('s')\n",
    "Isp_vac = 340.0 * ureg('s')"
   ]
  },
  {
   "cell_type": "markdown",
   "metadata": {},
   "source": [
    "## Laws of motions\n",
    "Here we are going to specift out laws of motion"
   ]
  },
  {
   "cell_type": "code",
   "execution_count": 19,
   "metadata": {},
   "outputs": [],
   "source": [
    "def gravity(m, h):\n",
    "    return G * m * M / (h + R)**2"
   ]
  },
  {
   "cell_type": "code",
   "execution_count": 29,
   "metadata": {},
   "outputs": [],
   "source": [
    "h = np.linspace(0, 100, 100) * ureg('km')"
   ]
  },
  {
   "cell_type": "code",
   "execution_count": null,
   "metadata": {},
   "outputs": [],
   "source": []
  }
 ],
 "metadata": {
  "kernelspec": {
   "display_name": "Python 3",
   "language": "python",
   "name": "python3"
  },
  "language_info": {
   "codemirror_mode": {
    "name": "ipython",
    "version": 3
   },
   "file_extension": ".py",
   "mimetype": "text/x-python",
   "name": "python",
   "nbconvert_exporter": "python",
   "pygments_lexer": "ipython3",
   "version": "3.6.5"
  }
 },
 "nbformat": 4,
 "nbformat_minor": 4
}
